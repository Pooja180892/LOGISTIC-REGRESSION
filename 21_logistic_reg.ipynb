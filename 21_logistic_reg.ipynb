{
 "cells": [
  {
   "cell_type": "code",
   "execution_count": 1,
   "id": "d00dbfda",
   "metadata": {},
   "outputs": [],
   "source": [
    "import numpy as np\n",
    "import pandas as pd"
   ]
  },
  {
   "cell_type": "code",
   "execution_count": 2,
   "id": "549e6556",
   "metadata": {},
   "outputs": [
    {
     "data": {
      "text/html": [
       "<div>\n",
       "<style scoped>\n",
       "    .dataframe tbody tr th:only-of-type {\n",
       "        vertical-align: middle;\n",
       "    }\n",
       "\n",
       "    .dataframe tbody tr th {\n",
       "        vertical-align: top;\n",
       "    }\n",
       "\n",
       "    .dataframe thead th {\n",
       "        text-align: right;\n",
       "    }\n",
       "</style>\n",
       "<table border=\"1\" class=\"dataframe\">\n",
       "  <thead>\n",
       "    <tr style=\"text-align: right;\">\n",
       "      <th></th>\n",
       "      <th>age</th>\n",
       "      <th>braught_insurance</th>\n",
       "    </tr>\n",
       "  </thead>\n",
       "  <tbody>\n",
       "    <tr>\n",
       "      <th>0</th>\n",
       "      <td>22</td>\n",
       "      <td>0</td>\n",
       "    </tr>\n",
       "    <tr>\n",
       "      <th>1</th>\n",
       "      <td>25</td>\n",
       "      <td>0</td>\n",
       "    </tr>\n",
       "  </tbody>\n",
       "</table>\n",
       "</div>"
      ],
      "text/plain": [
       "   age  braught_insurance\n",
       "0   22                  0\n",
       "1   25                  0"
      ]
     },
     "execution_count": 2,
     "metadata": {},
     "output_type": "execute_result"
    }
   ],
   "source": [
    "df = pd.read_csv('insurance.csv')\n",
    "df.head(2)"
   ]
  },
  {
   "cell_type": "code",
   "execution_count": 3,
   "id": "c37917cf",
   "metadata": {},
   "outputs": [
    {
     "data": {
      "text/plain": [
       "<AxesSubplot:xlabel='age', ylabel='braught_insurance'>"
      ]
     },
     "execution_count": 3,
     "metadata": {},
     "output_type": "execute_result"
    },
    {
     "data": {
      "image/png": "[encoded data removed]",
      "text/plain": [
       "<Figure size 432x288 with 1 Axes>"
      ]
     },
     "metadata": {
      "needs_background": "light"
     },
     "output_type": "display_data"
    }
   ],
   "source": [
    "df.plot.scatter(x='age',y='braught_insurance')\n",
    "#in bolow graph: \n",
    "# 1 means purchasing an insurance\n",
    "#0 means not purchasing an insurance"
   ]
  },
  {
   "cell_type": "raw",
   "id": "d5bdc44e",
   "metadata": {},
   "source": [
    "Problem statement: Build a predictive mode which can predict an insurance buying pattern.\n",
    "on the basis of Age. System will predict a person with a perticular age will buy an insurance or not"
   ]
  },
  {
   "cell_type": "code",
   "execution_count": 4,
   "id": "ce11ee38",
   "metadata": {},
   "outputs": [],
   "source": [
    "#separate X and y\n",
    "X= df[['age']]\n",
    "y = df.braught_insurance"
   ]
  },
  {
   "cell_type": "code",
   "execution_count": 5,
   "id": "0c3b8e30",
   "metadata": {},
   "outputs": [],
   "source": [
    "from sklearn.linear_model import LogisticRegression"
   ]
  },
  {
   "cell_type": "code",
   "execution_count": 6,
   "id": "071fe4a2",
   "metadata": {},
   "outputs": [],
   "source": [
    "log = LogisticRegression()"
   ]
  },
  {
   "cell_type": "code",
   "execution_count": 8,
   "id": "2426aaec",
   "metadata": {},
   "outputs": [
    {
     "data": {
      "text/plain": [
       "LogisticRegression()"
      ]
     },
     "execution_count": 8,
     "metadata": {},
     "output_type": "execute_result"
    }
   ],
   "source": [
    "#training\n",
    "log.fit(X,y)"
   ]
  },
  {
   "cell_type": "code",
   "execution_count": 11,
   "id": "047cd329",
   "metadata": {},
   "outputs": [
    {
     "name": "stdout",
     "output_type": "stream",
     "text": [
      "Enter your age:56\n",
      "A person with age 56 going to Purchase an Insurance\n"
     ]
    }
   ],
   "source": [
    "#testing\n",
    "age = int(input('Enter your age:'))\n",
    "out = log.predict([[age]])\n",
    "if out == 0:\n",
    "    print('A person with age',age,'not going to Purchase an Insurance')\n",
    "else:\n",
    "    print('A person with age',age,'going to Purchase an Insurance')"
   ]
  },
  {
   "cell_type": "code",
   "execution_count": 12,
   "id": "c85817b1",
   "metadata": {},
   "outputs": [
    {
     "data": {
      "text/plain": [
       "(27, 2)"
      ]
     },
     "execution_count": 12,
     "metadata": {},
     "output_type": "execute_result"
    }
   ],
   "source": [
    "df.shape"
   ]
  },
  {
   "cell_type": "code",
   "execution_count": 16,
   "id": "d6a661c8",
   "metadata": {},
   "outputs": [
    {
     "name": "stdout",
     "output_type": "stream",
     "text": [
      "Enter your age:[7,12,67,50,18]\n",
      "A person with age 7 not going to Purchase an Insurance\n",
      "A person with age 12 not going to Purchase an Insurance\n",
      "A person with age 67 going to Purchase an Insurance\n",
      "A person with age 50 going to Purchase an Insurance\n",
      "A person with age 18 not going to Purchase an Insurance\n"
     ]
    }
   ],
   "source": [
    "age = eval(input('Enter your age:'))\n",
    "for ag in age:\n",
    "    out = log.predict([[ag]])\n",
    "    if out == 0:\n",
    "        print('A person with age',ag,'not going to Purchase an Insurance')\n",
    "    else:\n",
    "        print('A person with age',ag,'going to Purchase an Insurance')"
   ]
  },
  {
   "cell_type": "raw",
   "id": "d2ca9c53",
   "metadata": {},
   "source": [
    "Logistic Regression uses Logit function/Sigmoid funtion\n",
    "\n",
    "output = 1/(1+e^(-y))\n",
    "where \n",
    "e =  Eular's constant\n",
    "y = mx +c "
   ]
  },
  {
   "cell_type": "code",
   "execution_count": null,
   "id": "f2c79915",
   "metadata": {},
   "outputs": [],
   "source": []
  }
 ],
 "metadata": {
  "kernelspec": {
   "display_name": "Python 3 (ipykernel)",
   "language": "python",
   "name": "python3"
  },
  "language_info": {
   "codemirror_mode": {
    "name": "ipython",
    "version": 3
   },
   "file_extension": ".py",
   "mimetype": "text/x-python",
   "name": "python",
   "nbconvert_exporter": "python",
   "pygments_lexer": "ipython3",
   "version": "3.9.7"
  }
 },
 "nbformat": 4,
 "nbformat_minor": 5
}
